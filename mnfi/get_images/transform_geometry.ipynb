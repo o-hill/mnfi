{
 "cells": [
  {
   "cell_type": "code",
   "execution_count": 8,
   "metadata": {},
   "outputs": [],
   "source": [
    "import pandas as pd\n",
    "import json"
   ]
  },
  {
   "cell_type": "code",
   "execution_count": 2,
   "metadata": {},
   "outputs": [],
   "source": [
    "df = pd.read_csv('MichiganGrid.csv')"
   ]
  },
  {
   "cell_type": "code",
   "execution_count": 10,
   "metadata": {},
   "outputs": [
    {
     "name": "stdout",
     "output_type": "stream",
     "text": [
      "{'geodesic': False, 'crs': {'type': 'name', 'properties': {'name': 'EPSG:4326'}}, 'type': 'Polygon', 'coordinates': [[[-84.80814934315579, 41.692608966555234], [-84.80455608201932, 41.692608966555234], [-84.80455608201932, 41.696202227691714], [-84.80814934315579, 41.696202227691714], [-84.80814934315579, 41.692608966555234]]]}\n"
     ]
    }
   ],
   "source": [
    "geometry_json = json.loads(df.loc[0][\".geo\"])\n",
    "print(geometry_json)"
   ]
  },
  {
   "cell_type": "code",
   "execution_count": 12,
   "metadata": {},
   "outputs": [
    {
     "data": {
      "text/plain": [
       "[[[-84.80814934315579, 41.692608966555234],\n",
       "  [-84.80455608201932, 41.692608966555234],\n",
       "  [-84.80455608201932, 41.696202227691714],\n",
       "  [-84.80814934315579, 41.696202227691714],\n",
       "  [-84.80814934315579, 41.692608966555234]]]"
      ]
     },
     "execution_count": 12,
     "metadata": {},
     "output_type": "execute_result"
    }
   ],
   "source": [
    "geometry_json['coordinates']"
   ]
  },
  {
   "cell_type": "code",
   "execution_count": 21,
   "metadata": {},
   "outputs": [],
   "source": [
    "transformed_df = df[\".geo\"].map(lambda entry: json.loads(entry)['coordinates'])"
   ]
  },
  {
   "cell_type": "code",
   "execution_count": 22,
   "metadata": {},
   "outputs": [
    {
     "data": {
      "text/plain": [
       "0    [[[-84.80814934315579, 41.692608966555234], [-...\n",
       "1    [[[-84.80455608201932, 41.692608966555234], [-...\n",
       "2    [[[-84.80814934315579, 41.696202227691714], [-...\n",
       "3    [[[-84.80455608201932, 41.696202227691714], [-...\n",
       "4    [[[-84.80096282088283, 41.696202227691714], [-...\n",
       "Name: .geo, dtype: object"
      ]
     },
     "execution_count": 22,
     "metadata": {},
     "output_type": "execute_result"
    }
   ],
   "source": [
    "transformed_df.head()"
   ]
  },
  {
   "cell_type": "code",
   "execution_count": 23,
   "metadata": {},
   "outputs": [],
   "source": [
    "transformed_df.to_csv('MichiganGrid-JustCoordinates.csv')"
   ]
  }
 ],
 "metadata": {
  "kernelspec": {
   "display_name": "venv",
   "language": "python",
   "name": "python3"
  },
  "language_info": {
   "codemirror_mode": {
    "name": "ipython",
    "version": 3
   },
   "file_extension": ".py",
   "mimetype": "text/x-python",
   "name": "python",
   "nbconvert_exporter": "python",
   "pygments_lexer": "ipython3",
   "version": "3.9.6"
  },
  "orig_nbformat": 4
 },
 "nbformat": 4,
 "nbformat_minor": 2
}
