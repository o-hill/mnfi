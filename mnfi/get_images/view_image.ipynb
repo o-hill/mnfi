{
 "cells": [
  {
   "cell_type": "code",
   "execution_count": 1,
   "metadata": {},
   "outputs": [],
   "source": [
    "import imageio as iio\n",
    "import numpy as np\n",
    "import matplotlib.pyplot as plt"
   ]
  },
  {
   "cell_type": "code",
   "execution_count": 3,
   "metadata": {},
   "outputs": [
    {
     "name": "stdout",
     "output_type": "stream",
     "text": [
      "(40, 40)\n",
      "(40, 40)\n",
      "(40, 40)\n",
      "(40, 40)\n",
      "(40, 40, 4)\n"
     ]
    }
   ],
   "source": [
    "b2 = np.array(iio.v2.imread('~/Downloads/0-sentinel/0-sentinel.B2.tif'))\n",
    "b3 = np.array(iio.v2.imread('~/Downloads/0-sentinel/0-sentinel.B3.tif'))\n",
    "b4 = np.array(iio.v2.imread('~/Downloads/0-sentinel/0-sentinel.B4.tif'))\n",
    "b8 = np.array(iio.v2.imread('~/Downloads/0-sentinel/0-sentinel.B8.tif'))\n",
    "\n",
    "print(b2.shape)\n",
    "print(b3.shape)\n",
    "print(b4.shape)\n",
    "print(b8.shape)\n",
    "\n",
    "image = np.dstack((b2, b3, b4, b8))\n",
    "print(image.shape)\n",
    "# scaled_image = image / image.max(axis=0).max(axis=0)\n",
    "# plt.imshow(scaled_image[:, :, 0:3])"
   ]
  }
 ],
 "metadata": {
  "kernelspec": {
   "display_name": "venv",
   "language": "python",
   "name": "python3"
  },
  "language_info": {
   "codemirror_mode": {
    "name": "ipython",
    "version": 3
   },
   "file_extension": ".py",
   "mimetype": "text/x-python",
   "name": "python",
   "nbconvert_exporter": "python",
   "pygments_lexer": "ipython3",
   "version": "3.9.6"
  },
  "orig_nbformat": 4
 },
 "nbformat": 4,
 "nbformat_minor": 2
}
